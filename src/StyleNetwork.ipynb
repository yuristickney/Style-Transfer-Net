{
 "cells": [
  {
   "cell_type": "code",
   "execution_count": 2,
   "metadata": {},
   "outputs": [],
   "source": [
    "from StyleNetwork import StyleNetwork"
   ]
  },
  {
   "cell_type": "code",
   "execution_count": null,
   "metadata": {},
   "outputs": [],
   "source": [
    "target_image_path = r'Y:\\Documents\\StyleNetwork\\City_1.jpg'\n",
    "style_reference_image_path = r'Y:\\Documents\\StyleNetwork\\Graphic_1.jpg'\n",
    "start_image_path = r'Y:\\Documents\\StyleNetwork\\City_1.jpg'\n",
    "stylenet = StyleNetwork(target_image_path, style_reference_image_path, start_image_path, use_mask='mean')\n",
    "stylenet.generate_image(content_layer='block3_conv4')\n",
    "stylenet.display_final_results()"
   ]
  }
 ],
 "metadata": {
  "kernelspec": {
   "display_name": "Python 3",
   "language": "python",
   "name": "python3"
  },
  "language_info": {
   "codemirror_mode": {
    "name": "ipython",
    "version": 3
   },
   "file_extension": ".py",
   "mimetype": "text/x-python",
   "name": "python",
   "nbconvert_exporter": "python",
   "pygments_lexer": "ipython3",
   "version": "3.6.5"
  }
 },
 "nbformat": 4,
 "nbformat_minor": 2
}
