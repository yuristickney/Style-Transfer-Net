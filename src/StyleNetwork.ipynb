{
 "cells": [
  {
   "cell_type": "markdown",
   "metadata": {},
   "source": [
    "# Neural Style Transfer "
   ]
  },
  {
   "cell_type": "markdown",
   "metadata": {},
   "source": [
    "In recent years there has been many approaches to tackling the problem of texture transfer, which is the process of transferring the style of one image onto the content of another. Many of these algorithms follow a non-parametric model to synthesise the texture of an image onto the content of another by resampling the pixels of the source style. However, the underlying issue that all of these other algorithms suffer from is the limiting use of only low level features of the content image to inform the style transfer. But thanks to the advancement in Convolutional Nueral Netwroks, the ability to extract semantic image content from a source image, like the scenary, arrangement of objects, et cetera, has been made pssible. We will explore how this type of algorithm that utilizes Convolutional Neural networks renders a result image (g) by extracting and synthesizing the semantic content of the target image in the style of the source image."
   ]
  },
  {
   "cell_type": "markdown",
   "metadata": {},
   "source": [
    "# Code"
   ]
  },
  {
   "cell_type": "markdown",
   "metadata": {},
   "source": [
    "Below is a style network class we created that takes two image paths for the content and style images and options to specify the initialization of the generated image. After initialization of the class with the above parameters, we can run the process by calling the function generate_image on the class instance that instantiates the loss and performs gradient descent to to optimize the output image to have the content of the content image and style of the style image. The generate_image function takes as input, the chosen feature content layer and weights for the content and style. It also takes as input the type of style loss function we would like to use (choose either 1 or 2 here).\n",
    "after finishing, we can display the results using display_final_results()."
   ]
  },
  {
   "cell_type": "code",
   "execution_count": 1,
   "metadata": {},
   "outputs": [
    {
     "name": "stderr",
     "output_type": "stream",
     "text": [
      "Using TensorFlow backend.\n"
     ]
    }
   ],
   "source": [
    "from StyleNetwork import StyleNetwork"
   ]
  },
  {
   "cell_type": "code",
   "execution_count": null,
   "metadata": {},
   "outputs": [
    {
     "name": "stdout",
     "output_type": "stream",
     "text": [
      "vgg Model loaded.\n",
      "Image saved as .\\Results City_1 with melt from Noise 0.1-1 block3_conv4 sharpen2.0 style_loss_2 mean\\style_transfer_result_at_iteration_0.png\n",
      "Start of iteration 1\n",
      "Current loss value: 356739450000.0\n",
      "Loss amount: None\n",
      "Image saved as .\\Results City_1 with melt from Noise 0.1-1 block3_conv4 sharpen2.0 style_loss_2 mean\\style_transfer_result_at_iteration_1.png\n",
      "Iteration 1 completed in 13s\n",
      "Start of iteration 2\n",
      "Current loss value: 286848550000.0\n",
      "Loss amount: 69890900000.0\n",
      "Image saved as .\\Results City_1 with melt from Noise 0.1-1 block3_conv4 sharpen2.0 style_loss_2 mean\\style_transfer_result_at_iteration_2.png\n",
      "Iteration 2 completed in 9s\n",
      "Start of iteration 3\n",
      "Current loss value: 265312500000.0\n",
      "Loss amount: 21536047000.0\n",
      "Image saved as .\\Results City_1 with melt from Noise 0.1-1 block3_conv4 sharpen2.0 style_loss_2 mean\\style_transfer_result_at_iteration_3.png\n",
      "Iteration 3 completed in 9s\n",
      "Start of iteration 4\n",
      "Current loss value: 255682310000.0\n",
      "Loss amount: 9630188000.0\n",
      "Image saved as .\\Results City_1 with melt from Noise 0.1-1 block3_conv4 sharpen2.0 style_loss_2 mean\\style_transfer_result_at_iteration_4.png\n",
      "Iteration 4 completed in 9s\n",
      "Start of iteration 5\n",
      "Current loss value: 249753440000.0\n",
      "Loss amount: 5928878000.0\n",
      "Image saved as .\\Results City_1 with melt from Noise 0.1-1 block3_conv4 sharpen2.0 style_loss_2 mean\\style_transfer_result_at_iteration_5.png\n",
      "Iteration 5 completed in 9s\n",
      "Start of iteration 6\n",
      "Current loss value: 245821900000.0\n",
      "Loss amount: 3931537400.0\n",
      "Image saved as .\\Results City_1 with melt from Noise 0.1-1 block3_conv4 sharpen2.0 style_loss_2 mean\\style_transfer_result_at_iteration_6.png\n",
      "Iteration 6 completed in 9s\n",
      "Start of iteration 7\n",
      "Current loss value: 242866960000.0\n",
      "Loss amount: 2954936300.0\n",
      "Image saved as .\\Results City_1 with melt from Noise 0.1-1 block3_conv4 sharpen2.0 style_loss_2 mean\\style_transfer_result_at_iteration_7.png\n",
      "Iteration 7 completed in 9s\n",
      "Start of iteration 8\n",
      "Current loss value: 240593670000.0\n",
      "Loss amount: 2273296400.0\n",
      "Image saved as .\\Results City_1 with melt from Noise 0.1-1 block3_conv4 sharpen2.0 style_loss_2 mean\\style_transfer_result_at_iteration_8.png\n",
      "Iteration 8 completed in 9s\n",
      "Start of iteration 9\n",
      "Current loss value: 238845480000.0\n",
      "Loss amount: 1748189200.0\n",
      "Image saved as .\\Results City_1 with melt from Noise 0.1-1 block3_conv4 sharpen2.0 style_loss_2 mean\\style_transfer_result_at_iteration_9.png\n",
      "Iteration 9 completed in 9s\n",
      "Start of iteration 10\n",
      "Current loss value: 237377680000.0\n",
      "Loss amount: 1467793400.0\n",
      "Image saved as .\\Results City_1 with melt from Noise 0.1-1 block3_conv4 sharpen2.0 style_loss_2 mean\\style_transfer_result_at_iteration_10.png\n",
      "Iteration 10 completed in 9s\n",
      "Start of iteration 11\n",
      "Current loss value: 236184900000.0\n",
      "Loss amount: 1192788000.0\n",
      "Image saved as .\\Results City_1 with melt from Noise 0.1-1 block3_conv4 sharpen2.0 style_loss_2 mean\\style_transfer_result_at_iteration_11.png\n",
      "Iteration 11 completed in 9s\n",
      "Start of iteration 12\n",
      "Current loss value: 235239690000.0\n",
      "Loss amount: 945209340.0\n",
      "Image saved as .\\Results City_1 with melt from Noise 0.1-1 block3_conv4 sharpen2.0 style_loss_2 mean\\style_transfer_result_at_iteration_12.png\n",
      "Iteration 12 completed in 9s\n",
      "Start of iteration 13\n",
      "Current loss value: 234449300000.0\n",
      "Loss amount: 790380540.0\n",
      "Image saved as .\\Results City_1 with melt from Noise 0.1-1 block3_conv4 sharpen2.0 style_loss_2 mean\\style_transfer_result_at_iteration_13.png\n",
      "Iteration 13 completed in 9s\n",
      "Start of iteration 14\n",
      "Current loss value: 233784250000.0\n",
      "Loss amount: 665059300.0\n",
      "Image saved as .\\Results City_1 with melt from Noise 0.1-1 block3_conv4 sharpen2.0 style_loss_2 mean\\style_transfer_result_at_iteration_14.png\n",
      "Iteration 14 completed in 9s\n",
      "Start of iteration 15\n",
      "Current loss value: 233228580000.0\n",
      "Loss amount: 555663360.0\n",
      "Image saved as .\\Results City_1 with melt from Noise 0.1-1 block3_conv4 sharpen2.0 style_loss_2 mean\\style_transfer_result_at_iteration_15.png\n",
      "Iteration 15 completed in 9s\n",
      "Start of iteration 16\n",
      "Current loss value: 232765160000.0\n",
      "Loss amount: 463421440.0\n",
      "Image saved as .\\Results City_1 with melt from Noise 0.1-1 block3_conv4 sharpen2.0 style_loss_2 mean\\style_transfer_result_at_iteration_16.png\n",
      "Iteration 16 completed in 9s\n",
      "Start of iteration 17\n",
      "Current loss value: 232380960000.0\n",
      "Loss amount: 384204800.0\n",
      "Image saved as .\\Results City_1 with melt from Noise 0.1-1 block3_conv4 sharpen2.0 style_loss_2 mean\\style_transfer_result_at_iteration_17.png\n",
      "Iteration 17 completed in 9s\n",
      "Start of iteration 18\n",
      "Current loss value: 232050050000.0\n",
      "Loss amount: 330907650.0\n",
      "Image saved as .\\Results City_1 with melt from Noise 0.1-1 block3_conv4 sharpen2.0 style_loss_2 mean\\style_transfer_result_at_iteration_18.png\n",
      "Iteration 18 completed in 9s\n",
      "Start of iteration 19\n",
      "Current loss value: 231759660000.0\n",
      "Loss amount: 290390000.0\n",
      "Image saved as .\\Results City_1 with melt from Noise 0.1-1 block3_conv4 sharpen2.0 style_loss_2 mean\\style_transfer_result_at_iteration_19.png\n",
      "Iteration 19 completed in 9s\n",
      "Start of iteration 20\n",
      "Current loss value: 231505250000.0\n",
      "Loss amount: 254410750.0\n",
      "Image saved as .\\Results City_1 with melt from Noise 0.1-1 block3_conv4 sharpen2.0 style_loss_2 mean\\style_transfer_result_at_iteration_20.png\n",
      "Iteration 20 completed in 9s\n",
      "Start of iteration 21\n",
      "Current loss value: 231265910000.0\n",
      "Loss amount: 239337470.0\n",
      "Image saved as .\\Results City_1 with melt from Noise 0.1-1 block3_conv4 sharpen2.0 style_loss_2 mean\\style_transfer_result_at_iteration_21.png\n",
      "Iteration 21 completed in 9s\n",
      "Start of iteration 22\n",
      "Current loss value: 231049580000.0\n",
      "Loss amount: 216334340.0\n",
      "Image saved as .\\Results City_1 with melt from Noise 0.1-1 block3_conv4 sharpen2.0 style_loss_2 mean\\style_transfer_result_at_iteration_22.png\n",
      "Iteration 22 completed in 9s\n",
      "Start of iteration 23\n",
      "Current loss value: 230854250000.0\n",
      "Loss amount: 195330050.0\n",
      "Image saved as .\\Results City_1 with melt from Noise 0.1-1 block3_conv4 sharpen2.0 style_loss_2 mean\\style_transfer_result_at_iteration_23.png\n",
      "Iteration 23 completed in 9s\n",
      "Start of iteration 24\n",
      "Current loss value: 230667160000.0\n",
      "Loss amount: 187088900.0\n",
      "Image saved as .\\Results City_1 with melt from Noise 0.1-1 block3_conv4 sharpen2.0 style_loss_2 mean\\style_transfer_result_at_iteration_24.png\n",
      "Iteration 24 completed in 9s\n",
      "Start of iteration 25\n",
      "Current loss value: 230500120000.0\n",
      "Loss amount: 167034880.0\n",
      "Image saved as .\\Results City_1 with melt from Noise 0.1-1 block3_conv4 sharpen2.0 style_loss_2 mean\\style_transfer_result_at_iteration_25.png\n",
      "Iteration 25 completed in 9s\n",
      "Start of iteration 26\n",
      "Current loss value: 230346400000.0\n",
      "Loss amount: 153714690.0\n",
      "Image saved as .\\Results City_1 with melt from Noise 0.1-1 block3_conv4 sharpen2.0 style_loss_2 mean\\style_transfer_result_at_iteration_26.png\n",
      "Iteration 26 completed in 9s\n",
      "Start of iteration 27\n",
      "Current loss value: 230207750000.0\n",
      "Loss amount: 138657800.0\n",
      "Image saved as .\\Results City_1 with melt from Noise 0.1-1 block3_conv4 sharpen2.0 style_loss_2 mean\\style_transfer_result_at_iteration_27.png\n",
      "Iteration 27 completed in 9s\n",
      "Start of iteration 28\n",
      "Current loss value: 230077940000.0\n",
      "Loss amount: 129810430.0\n",
      "Image saved as .\\Results City_1 with melt from Noise 0.1-1 block3_conv4 sharpen2.0 style_loss_2 mean\\style_transfer_result_at_iteration_28.png\n",
      "Iteration 28 completed in 9s\n",
      "Start of iteration 29\n",
      "Current loss value: 229958120000.0\n",
      "Loss amount: 119816190.0\n",
      "Image saved as .\\Results City_1 with melt from Noise 0.1-1 block3_conv4 sharpen2.0 style_loss_2 mean\\style_transfer_result_at_iteration_29.png\n",
      "Iteration 29 completed in 9s\n",
      "Start of iteration 30\n",
      "Current loss value: 229845650000.0\n",
      "Loss amount: 112476160.0\n",
      "Image saved as .\\Results City_1 with melt from Noise 0.1-1 block3_conv4 sharpen2.0 style_loss_2 mean\\style_transfer_result_at_iteration_30.png\n",
      "Iteration 30 completed in 9s\n",
      "Start of iteration 31\n",
      "Current loss value: 229744180000.0\n",
      "Loss amount: 101466110.0\n",
      "Image saved as .\\Results City_1 with melt from Noise 0.1-1 block3_conv4 sharpen2.0 style_loss_2 mean\\style_transfer_result_at_iteration_31.png\n",
      "Iteration 31 completed in 9s\n",
      "Start of iteration 32\n",
      "Current loss value: 229649730000.0\n",
      "Loss amount: 94453760.0\n",
      "Image saved as .\\Results City_1 with melt from Noise 0.1-1 block3_conv4 sharpen2.0 style_loss_2 mean\\style_transfer_result_at_iteration_32.png\n",
      "Iteration 32 completed in 9s\n",
      "Start of iteration 33\n"
     ]
    },
    {
     "name": "stdout",
     "output_type": "stream",
     "text": [
      "Current loss value: 229562220000.0\n",
      "Loss amount: 87506940.0\n",
      "Image saved as .\\Results City_1 with melt from Noise 0.1-1 block3_conv4 sharpen2.0 style_loss_2 mean\\style_transfer_result_at_iteration_33.png\n",
      "Iteration 33 completed in 9s\n",
      "Start of iteration 34\n",
      "Current loss value: 229480890000.0\n",
      "Loss amount: 81330180.0\n",
      "Image saved as .\\Results City_1 with melt from Noise 0.1-1 block3_conv4 sharpen2.0 style_loss_2 mean\\style_transfer_result_at_iteration_34.png\n",
      "Iteration 34 completed in 9s\n",
      "Start of iteration 35\n",
      "Current loss value: 229404850000.0\n",
      "Loss amount: 76038140.0\n",
      "Image saved as .\\Results City_1 with melt from Noise 0.1-1 block3_conv4 sharpen2.0 style_loss_2 mean\\style_transfer_result_at_iteration_35.png\n",
      "Iteration 35 completed in 9s\n",
      "Start of iteration 36\n",
      "Current loss value: 229334520000.0\n",
      "Loss amount: 70336510.0\n",
      "Image saved as .\\Results City_1 with melt from Noise 0.1-1 block3_conv4 sharpen2.0 style_loss_2 mean\\style_transfer_result_at_iteration_36.png\n",
      "Iteration 36 completed in 9s\n",
      "Start of iteration 37\n",
      "Current loss value: 229268720000.0\n",
      "Loss amount: 65798144.0\n",
      "Image saved as .\\Results City_1 with melt from Noise 0.1-1 block3_conv4 sharpen2.0 style_loss_2 mean\\style_transfer_result_at_iteration_37.png\n",
      "Iteration 37 completed in 9s\n",
      "Start of iteration 38\n",
      "Current loss value: 229207130000.0\n",
      "Loss amount: 61587456.0\n",
      "Image saved as .\\Results City_1 with melt from Noise 0.1-1 block3_conv4 sharpen2.0 style_loss_2 mean\\style_transfer_result_at_iteration_38.png\n",
      "Iteration 38 completed in 9s\n",
      "Start of iteration 39\n",
      "Current loss value: 229149970000.0\n",
      "Loss amount: 57163776.0\n",
      "Image saved as .\\Results City_1 with melt from Noise 0.1-1 block3_conv4 sharpen2.0 style_loss_2 mean\\style_transfer_result_at_iteration_39.png\n",
      "Iteration 39 completed in 9s\n",
      "Start of iteration 40\n",
      "Current loss value: 229096570000.0\n",
      "Loss amount: 53395456.0\n",
      "Image saved as .\\Results City_1 with melt from Noise 0.1-1 block3_conv4 sharpen2.0 style_loss_2 mean\\style_transfer_result_at_iteration_40.png\n",
      "Iteration 40 completed in 9s\n",
      "Start of iteration 41\n",
      "Current loss value: 229045960000.0\n",
      "Loss amount: 50610176.0\n",
      "Image saved as .\\Results City_1 with melt from Noise 0.1-1 block3_conv4 sharpen2.0 style_loss_2 mean\\style_transfer_result_at_iteration_41.png\n",
      "Iteration 41 completed in 9s\n",
      "Start of iteration 42\n",
      "Current loss value: 228997920000.0\n",
      "Loss amount: 48037890.0\n",
      "Image saved as .\\Results City_1 with melt from Noise 0.1-1 block3_conv4 sharpen2.0 style_loss_2 mean\\style_transfer_result_at_iteration_42.png\n",
      "Iteration 42 completed in 9s\n",
      "Start of iteration 43\n",
      "Current loss value: 228951200000.0\n",
      "Loss amount: 46727170.0\n",
      "Image saved as .\\Results City_1 with melt from Noise 0.1-1 block3_conv4 sharpen2.0 style_loss_2 mean\\style_transfer_result_at_iteration_43.png\n",
      "Iteration 43 completed in 9s\n",
      "Start of iteration 44\n",
      "Current loss value: 228907520000.0\n",
      "Loss amount: 43679744.0\n",
      "Image saved as .\\Results City_1 with melt from Noise 0.1-1 block3_conv4 sharpen2.0 style_loss_2 mean\\style_transfer_result_at_iteration_44.png\n",
      "Iteration 44 completed in 9s\n",
      "Start of iteration 45\n",
      "Current loss value: 228866150000.0\n",
      "Loss amount: 41369600.0\n",
      "Image saved as .\\Results City_1 with melt from Noise 0.1-1 block3_conv4 sharpen2.0 style_loss_2 mean\\style_transfer_result_at_iteration_45.png\n",
      "Iteration 45 completed in 9s\n",
      "Start of iteration 46\n",
      "Current loss value: 228826890000.0\n",
      "Loss amount: 39256064.0\n",
      "Image saved as .\\Results City_1 with melt from Noise 0.1-1 block3_conv4 sharpen2.0 style_loss_2 mean\\style_transfer_result_at_iteration_46.png\n",
      "Iteration 46 completed in 9s\n",
      "Start of iteration 47\n",
      "Current loss value: 228789550000.0\n",
      "Loss amount: 37339136.0\n",
      "Image saved as .\\Results City_1 with melt from Noise 0.1-1 block3_conv4 sharpen2.0 style_loss_2 mean\\style_transfer_result_at_iteration_47.png\n",
      "Iteration 47 completed in 9s\n",
      "Start of iteration 48\n",
      "Current loss value: 228754490000.0\n",
      "Loss amount: 35061760.0\n",
      "Image saved as .\\Results City_1 with melt from Noise 0.1-1 block3_conv4 sharpen2.0 style_loss_2 mean\\style_transfer_result_at_iteration_48.png\n",
      "Iteration 48 completed in 9s\n",
      "Start of iteration 49\n",
      "Current loss value: 228721930000.0\n",
      "Loss amount: 32555008.0\n",
      "Image saved as .\\Results City_1 with melt from Noise 0.1-1 block3_conv4 sharpen2.0 style_loss_2 mean\\style_transfer_result_at_iteration_49.png\n",
      "Iteration 49 completed in 9s\n",
      "Start of iteration 50\n",
      "Current loss value: 228690500000.0\n",
      "Loss amount: 31440896.0\n",
      "Image saved as .\\Results City_1 with melt from Noise 0.1-1 block3_conv4 sharpen2.0 style_loss_2 mean\\style_transfer_result_at_iteration_50.png\n",
      "Iteration 50 completed in 9s\n",
      "Start of iteration 51\n",
      "Current loss value: 228659580000.0\n",
      "Loss amount: 30916608.0\n",
      "Image saved as .\\Results City_1 with melt from Noise 0.1-1 block3_conv4 sharpen2.0 style_loss_2 mean\\style_transfer_result_at_iteration_51.png\n",
      "Iteration 51 completed in 9s\n",
      "Start of iteration 52\n",
      "Current loss value: 228629970000.0\n",
      "Loss amount: 29605888.0\n",
      "Image saved as .\\Results City_1 with melt from Noise 0.1-1 block3_conv4 sharpen2.0 style_loss_2 mean\\style_transfer_result_at_iteration_52.png\n",
      "Iteration 52 completed in 9s\n",
      "Start of iteration 53\n",
      "Current loss value: 228602040000.0\n",
      "Loss amount: 27934720.0\n",
      "Image saved as .\\Results City_1 with melt from Noise 0.1-1 block3_conv4 sharpen2.0 style_loss_2 mean\\style_transfer_result_at_iteration_53.png\n",
      "Iteration 53 completed in 9s\n",
      "Start of iteration 54\n",
      "Current loss value: 228575080000.0\n",
      "Loss amount: 26951680.0\n",
      "Image saved as .\\Results City_1 with melt from Noise 0.1-1 block3_conv4 sharpen2.0 style_loss_2 mean\\style_transfer_result_at_iteration_54.png\n",
      "Iteration 54 completed in 9s\n",
      "Start of iteration 55\n"
     ]
    }
   ],
   "source": [
    "target_image_path = r'..\\City_1.jpg'\n",
    "style_reference_image_path = r'..\\melt.jpg'\n",
    "start_image_path = r'..\\happy_dog.jpg'\n",
    "stylenet = StyleNetwork(target_image_path, style_reference_image_path, starting_img_path=None, use_mask='mean')\n",
    "stylenet.generate_image(content_layer='block3_conv4', content_weight=1,style_weight=.1, s_loss_type=2)\n",
    "stylenet.display_final_results()"
   ]
  },
  {
   "cell_type": "markdown",
   "metadata": {},
   "source": [
    "# Style Loss"
   ]
  },
  {
   "cell_type": "markdown",
   "metadata": {},
   "source": [
    "#Explanation of style loss"
   ]
  },
  {
   "cell_type": "markdown",
   "metadata": {},
   "source": [
    "#Image of style loss formula "
   ]
  },
  {
   "cell_type": "markdown",
   "metadata": {},
   "source": [
    "# Content Loss"
   ]
  },
  {
   "cell_type": "markdown",
   "metadata": {},
   "source": [
    "#Explanation of style loss"
   ]
  },
  {
   "cell_type": "markdown",
   "metadata": {},
   "source": [
    "#Explanation of style loss"
   ]
  },
  {
   "cell_type": "markdown",
   "metadata": {},
   "source": [
    "# Testing"
   ]
  },
  {
   "cell_type": "markdown",
   "metadata": {},
   "source": [
    "#Explanation of testing"
   ]
  },
  {
   "cell_type": "markdown",
   "metadata": {},
   "source": [
    "# Grey-Scale As Starting Image"
   ]
  },
  {
   "cell_type": "markdown",
   "metadata": {},
   "source": [
    "#explanation of grey scale image"
   ]
  },
  {
   "cell_type": "markdown",
   "metadata": {},
   "source": [
    "#results"
   ]
  },
  {
   "cell_type": "markdown",
   "metadata": {},
   "source": [
    "#explanation of results"
   ]
  },
  {
   "cell_type": "markdown",
   "metadata": {},
   "source": [
    "# Noise As Starting Image"
   ]
  },
  {
   "cell_type": "markdown",
   "metadata": {},
   "source": [
    "#explanation of noise image"
   ]
  },
  {
   "cell_type": "markdown",
   "metadata": {},
   "source": [
    "#results"
   ]
  },
  {
   "cell_type": "markdown",
   "metadata": {},
   "source": [
    "#explanation of results"
   ]
  },
  {
   "cell_type": "markdown",
   "metadata": {},
   "source": [
    "# Content As Starting Image"
   ]
  },
  {
   "cell_type": "markdown",
   "metadata": {},
   "source": [
    "#explanation of content image"
   ]
  },
  {
   "cell_type": "markdown",
   "metadata": {},
   "source": [
    "#results"
   ]
  },
  {
   "cell_type": "markdown",
   "metadata": {},
   "source": [
    "#explanation of results"
   ]
  },
  {
   "cell_type": "markdown",
   "metadata": {},
   "source": [
    "# Using loss function presented in lecture"
   ]
  },
  {
   "cell_type": "markdown",
   "metadata": {},
   "source": [
    "#results"
   ]
  },
  {
   "cell_type": "markdown",
   "metadata": {},
   "source": [
    "# Using our loss function"
   ]
  },
  {
   "cell_type": "markdown",
   "metadata": {},
   "source": [
    "#reults"
   ]
  },
  {
   "cell_type": "markdown",
   "metadata": {},
   "source": [
    "#explain results"
   ]
  },
  {
   "cell_type": "markdown",
   "metadata": {},
   "source": [
    "# What did we learn?"
   ]
  },
  {
   "cell_type": "markdown",
   "metadata": {},
   "source": [
    "#explain what we learned"
   ]
  }
 ],
 "metadata": {
  "kernelspec": {
   "display_name": "Python 3",
   "language": "python",
   "name": "python3"
  },
  "language_info": {
   "codemirror_mode": {
    "name": "ipython",
    "version": 3
   },
   "file_extension": ".py",
   "mimetype": "text/x-python",
   "name": "python",
   "nbconvert_exporter": "python",
   "pygments_lexer": "ipython3",
   "version": "3.6.5"
  }
 },
 "nbformat": 4,
 "nbformat_minor": 2
}
